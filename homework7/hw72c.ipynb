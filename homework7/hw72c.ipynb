{
 "cells": [
  {
   "cell_type": "markdown",
   "metadata": {},
   "source": [
    "# Imports"
   ]
  },
  {
   "cell_type": "code",
   "execution_count": 8,
   "metadata": {
    "ExecuteTime": {
     "end_time": "2022-12-12T02:18:22.134896Z",
     "start_time": "2022-12-12T02:18:22.118077Z"
    }
   },
   "outputs": [],
   "source": [
    "%matplotlib inline\n",
    "\n",
    "from qiskit import *\n",
    "from qiskit.execute_function import execute\n",
    "from qiskit.tools.visualization import plot_histogram\n",
    "\n",
    "from math import pi"
   ]
  },
  {
   "cell_type": "markdown",
   "metadata": {},
   "source": [
    "# Circuit Design"
   ]
  },
  {
   "cell_type": "code",
   "execution_count": 9,
   "metadata": {
    "ExecuteTime": {
     "end_time": "2022-12-12T02:18:26.048665Z",
     "start_time": "2022-12-12T02:18:26.043248Z"
    }
   },
   "outputs": [],
   "source": [
    "qr = QuantumRegister(3)\n",
    "cr = ClassicalRegister(1)\n",
    "\n",
    "circuit = QuantumCircuit(qr, cr)"
   ]
  },
  {
   "cell_type": "code",
   "execution_count": 10,
   "metadata": {
    "ExecuteTime": {
     "end_time": "2022-12-12T02:19:21.402446Z",
     "start_time": "2022-12-12T02:19:21.375167Z"
    },
    "scrolled": false
   },
   "outputs": [
    {
     "data": {
      "text/plain": "                       ░      ┌─────────┐ ░      ┌───┐         ░    \nq17_0: ────────────────░──|0>─┤ Ry(π/3) ├─░───■──┤ H ├──────■──░────\n            ┌───┐      ░      └─────────┘ ░ ┌─┴─┐├───┤      │  ░    \nq17_1: ─|0>─┤ H ├──■───░──────────────────░─┤ X ├┤ I ├──■───┼──░────\n            └───┘┌─┴─┐ ░                  ░ └───┘└───┘┌─┴─┐ │  ░ ┌─┐\nq17_2: ─|0>──────┤ X ├─░──────────────────░───────────┤ X ├─■──░─┤M├\n                 └───┘ ░                  ░           └───┘    ░ └╥┘\n c1: 1/═══════════════════════════════════════════════════════════╩═\n                                                                  0 ",
      "text/html": "<pre style=\"word-wrap: normal;white-space: pre;background: #fff0;line-height: 1.1;font-family: &quot;Courier New&quot;,Courier,monospace\">                       ░      ┌─────────┐ ░      ┌───┐         ░    \nq17_0: ────────────────░──|0>─┤ Ry(π/3) ├─░───■──┤ H ├──────■──░────\n            ┌───┐      ░      └─────────┘ ░ ┌─┴─┐├───┤      │  ░    \nq17_1: ─|0>─┤ H ├──■───░──────────────────░─┤ X ├┤ I ├──■───┼──░────\n            └───┘┌─┴─┐ ░                  ░ └───┘└───┘┌─┴─┐ │  ░ ┌─┐\nq17_2: ─|0>──────┤ X ├─░──────────────────░───────────┤ X ├─■──░─┤M├\n                 └───┘ ░                  ░           └───┘    ░ └╥┘\n c1: 1/═══════════════════════════════════════════════════════════╩═\n                                                                  0 </pre>"
     },
     "execution_count": 10,
     "metadata": {},
     "output_type": "execute_result"
    }
   ],
   "source": [
    "circuit.clear()\n",
    "\n",
    "circuit.reset(qr[1:3])\n",
    "circuit.h(qr[1])\n",
    "circuit.cnot(qr[1], qr[2])\n",
    "#----------------------------------#\n",
    "circuit.barrier()\n",
    "#----------------------------------#\n",
    "circuit.reset(qr[0])\n",
    "circuit.ry(pi/3, qr[0])\n",
    "#----------------------------------#\n",
    "circuit.barrier()\n",
    "#----------------------------------#\n",
    "circuit.cnot(qr[0], qr[1])\n",
    "circuit.h(qr[0])\n",
    "circuit.i(qr[1])\n",
    "circuit.cnot(qr[1], qr[2])\n",
    "circuit.cz(qr[0],qr[2])\n",
    "#----------------------------------#\n",
    "circuit.barrier()\n",
    "#----------------------------------#\n",
    "circuit.measure(qr[2], cr)\n",
    "\n",
    "circuit.draw()"
   ]
  },
  {
   "cell_type": "markdown",
   "metadata": {},
   "source": [
    "# Simulation with AER"
   ]
  },
  {
   "cell_type": "code",
   "execution_count": 18,
   "metadata": {
    "ExecuteTime": {
     "end_time": "2022-12-12T02:25:14.801418Z",
     "start_time": "2022-12-12T02:25:14.776680Z"
    }
   },
   "outputs": [],
   "source": [
    "simulator = BasicAer.get_backend('statevector_simulator')\n",
    "job = execute(circuit, simulator)"
   ]
  },
  {
   "cell_type": "code",
   "execution_count": 20,
   "metadata": {
    "ExecuteTime": {
     "end_time": "2022-12-12T02:25:14.993714Z",
     "start_time": "2022-12-12T02:25:14.979505Z"
    }
   },
   "outputs": [
    {
     "data": {
      "text/plain": "array([0. +0.00000000e+00j, 0. +0.00000000e+00j, 0. +0.00000000e+00j,\n       0. +0.00000000e+00j, 0.5-1.00052088e-16j, 0.5-1.00052088e-16j,\n       0.5-1.00052088e-16j, 0.5-1.00052088e-16j])"
     },
     "execution_count": 20,
     "metadata": {},
     "output_type": "execute_result"
    }
   ],
   "source": [
    "# Results in either 1/2*(1,1,1,1,0,0,0,0) or 1/2*(0,0,0,0,1,1,1,1)\n",
    "result = job.result()\n",
    "result.get_statevector()"
   ]
  },
  {
   "cell_type": "code",
   "execution_count": 12,
   "metadata": {},
   "outputs": [],
   "source": []
  },
  {
   "cell_type": "code",
   "execution_count": 13,
   "outputs": [],
   "source": [
    "simulator = Aer.get_backend('qasm_simulator')"
   ],
   "metadata": {
    "collapsed": false
   }
  },
  {
   "cell_type": "code",
   "execution_count": 14,
   "outputs": [
    {
     "data": {
      "text/plain": "<Figure size 504x360 with 1 Axes>",
      "image/png": "[encoded data removed]"
     },
     "execution_count": 14,
     "metadata": {},
     "output_type": "execute_result"
    }
   ],
   "source": [
    "result = execute(circuit, backend=simulator, shots=1024).result()\n",
    "plot_histogram(result.get_counts(circuit))"
   ],
   "metadata": {
    "collapsed": false
   }
  },
  {
   "cell_type": "code",
   "execution_count": 15,
   "outputs": [
    {
     "data": {
      "text/plain": "<Figure size 504x360 with 1 Axes>",
      "image/png": "[encoded data removed]"
     },
     "execution_count": 15,
     "metadata": {},
     "output_type": "execute_result"
    }
   ],
   "source": [
    "result = execute(circuit, backend=simulator, shots=1024).result()\n",
    "plot_histogram(result.get_counts(circuit))"
   ],
   "metadata": {
    "collapsed": false
   }
  },
  {
   "cell_type": "code",
   "execution_count": 14,
   "outputs": [],
   "source": [],
   "metadata": {
    "collapsed": false
   }
  }
 ],
 "metadata": {
  "kernelspec": {
   "display_name": "Python 3",
   "language": "python",
   "name": "python3"
  },
  "language_info": {
   "codemirror_mode": {
    "name": "ipython",
    "version": 3
   },
   "file_extension": ".py",
   "mimetype": "text/x-python",
   "name": "python",
   "nbconvert_exporter": "python",
   "pygments_lexer": "ipython3",
   "version": "3.9.4"
  },
  "toc": {
   "base_numbering": 1,
   "nav_menu": {},
   "number_sections": true,
   "sideBar": true,
   "skip_h1_title": false,
   "title_cell": "Table of Contents",
   "title_sidebar": "Contents",
   "toc_cell": false,
   "toc_position": {},
   "toc_section_display": true,
   "toc_window_display": false
  }
 },
 "nbformat": 4,
 "nbformat_minor": 1
}
